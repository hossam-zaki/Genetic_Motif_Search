{
  "nbformat": 4,
  "nbformat_minor": 0,
  "metadata": {
    "colab": {
      "name": "find transcription factors.ipynb",
      "provenance": [],
      "collapsed_sections": [],
      "include_colab_link": true
    },
    "kernelspec": {
      "name": "python3",
      "display_name": "Python 3"
    }
  },
  "cells": [
    {
      "cell_type": "markdown",
      "metadata": {
        "id": "view-in-github",
        "colab_type": "text"
      },
      "source": [
        "<a href=\"https://colab.research.google.com/github/hossam-zaki/Genetic_Motif_Search/blob/master/code/find_transcription_factors.ipynb\" target=\"_parent\"><img src=\"https://colab.research.google.com/assets/colab-badge.svg\" alt=\"Open In Colab\"/></a>"
      ]
    },
    {
      "cell_type": "markdown",
      "metadata": {
        "id": "R46-rwd4hNMn",
        "colab_type": "text"
      },
      "source": [
        "# Predict if a sequence is depleted or enriched in the germline"
      ]
    },
    {
      "cell_type": "markdown",
      "metadata": {
        "id": "QRMSFdUSubgX",
        "colab_type": "text"
      },
      "source": [
        "In order to train the neural network, we must load and preprocess the data, which consists of DNA sequences and their corresponding labels.By processing this data, the network will learn to distinguish sequences that bind to the transcription factor from those that do not. We will split the data into three different sub-datasets:\n",
        "\n",
        "(1) Training dataset: a dataset used to fit the parameters of a model or to define the weights of connections between neurons of a neural network.\n",
        "\n",
        "(2) Validation dataset: a second dataset used to minimize overfitting. The weights of the network are not adjusted with this data set. After each training cycle, if the accuracy over the training data set increases, but the accuracy over the validation data set stays the same or decreases, then there is overfitting on the neural network.\n",
        "\n",
        "(3) Testing dataset: is a third dataset not included in the training nor validation data sets. After all the training and validation cycles are complete, this dataset is used only for testing the final solution in order to measure the actual predictive power of the neural network on new examples.\n",
        "\n",
        "-----------\n",
        "\n",
        "We start by loading the simulated data from an external repository.\n",
        "\n",
        "This data will be taken from known depleted and enriched sequences. the sequences will then be extracted from the file and will be given their corresponding labels"
      ]
    },
    {
      "cell_type": "code",
      "metadata": {
        "id": "B_F7VoAMhLiX",
        "colab_type": "code",
        "outputId": "536a4073-d74d-4226-efd8-c5da2cf4da7e",
        "colab": {
          "base_uri": "https://localhost:8080/",
          "height": 453
        }
      },
      "source": [
        "import numpy as np\n",
        "import pandas as pd\n",
        "import matplotlib.pyplot as plt\n",
        "import requests\n",
        "import re\n",
        "\n",
        "depleted_url = 'https://raw.githubusercontent.com/hossam-zaki/Genetic_Motif_Search/master/data/motifSearchData/depleted_sequences.txt'\n",
        "\n",
        "depletedText = requests.get(depleted_url).text\n",
        "depLines = depletedText.splitlines()\n",
        "sequences = []\n",
        "pattern = re.compile(\"N+\")\n",
        "for line in depLines:\n",
        "  if '>' in line:\n",
        "    sequences.append(\"\")\n",
        "  else:\n",
        "    sequences[len(sequences) - 1 ] += re.sub(r\"N+\", \"\", line)\n",
        "print(len(sequences))\n",
        "\n",
        "enriched_url = 'https://raw.githubusercontent.com/hossam-zaki/Genetic_Motif_Search/master/data/motifSearchData/enriched_sequences.txt'\n",
        "enrichedText = requests.get(enriched_url).text\n",
        "enrLines = enrichedText.splitlines()\n",
        "for line in enrLines:\n",
        "  if '>' in line:\n",
        "    sequences.append(\"\")\n",
        "  else:\n",
        "    sequences[len(sequences) - 1 ] += re.sub(r\"N+\", \"\", line)\n",
        "print(len(sequences))\n",
        "sequences = list(filter(None, sequences))  # This removes empty sequences.\n",
        "# Let's print the first few sequences.\n",
        "pd.DataFrame(sequences, index=np.arange(1, len(sequences)+1), \n",
        "             columns=['Sequences'])"
      ],
      "execution_count": 1,
      "outputs": [
        {
          "output_type": "stream",
          "text": [
            "118\n",
            "270\n"
          ],
          "name": "stdout"
        },
        {
          "output_type": "execute_result",
          "data": {
            "text/html": [
              "<div>\n",
              "<style scoped>\n",
              "    .dataframe tbody tr th:only-of-type {\n",
              "        vertical-align: middle;\n",
              "    }\n",
              "\n",
              "    .dataframe tbody tr th {\n",
              "        vertical-align: top;\n",
              "    }\n",
              "\n",
              "    .dataframe thead th {\n",
              "        text-align: right;\n",
              "    }\n",
              "</style>\n",
              "<table border=\"1\" class=\"dataframe\">\n",
              "  <thead>\n",
              "    <tr style=\"text-align: right;\">\n",
              "      <th></th>\n",
              "      <th>Sequences</th>\n",
              "    </tr>\n",
              "  </thead>\n",
              "  <tbody>\n",
              "    <tr>\n",
              "      <th>1</th>\n",
              "      <td>TAATTACGCACATTGATCAATCGCGATCGACTGGAATGGTGTAAAC...</td>\n",
              "    </tr>\n",
              "    <tr>\n",
              "      <th>2</th>\n",
              "      <td>CACCCCTCCCTCACTCATCACCTATACCCTACCACCATGCTCCACC...</td>\n",
              "    </tr>\n",
              "    <tr>\n",
              "      <th>3</th>\n",
              "      <td>CCAGGATTTAGCCAAACATGATGGCATATATAGGATACGTGTGCCT...</td>\n",
              "    </tr>\n",
              "    <tr>\n",
              "      <th>4</th>\n",
              "      <td>GCGTACACAAGAAATCTAAGAAATCGTGTCACACCGAAATCACAGT...</td>\n",
              "    </tr>\n",
              "    <tr>\n",
              "      <th>5</th>\n",
              "      <td>GCGTACACAAGAAATCTAAGAAATCGTGTCACACCGAAATCACAGT...</td>\n",
              "    </tr>\n",
              "    <tr>\n",
              "      <th>...</th>\n",
              "      <td>...</td>\n",
              "    </tr>\n",
              "    <tr>\n",
              "      <th>266</th>\n",
              "      <td>GCGATTGCAAATAACATCCGGGGCATTCTAGTTCAAGCTATTTTCA...</td>\n",
              "    </tr>\n",
              "    <tr>\n",
              "      <th>267</th>\n",
              "      <td>GCGATTGCAAATAACATCCGGGGCATTCTAGTTCAAGCTATTTTCA...</td>\n",
              "    </tr>\n",
              "    <tr>\n",
              "      <th>268</th>\n",
              "      <td>CTCACCTAATATCAATGTATTGCAAGTCCCAGGATTTTAAAGTGTA...</td>\n",
              "    </tr>\n",
              "    <tr>\n",
              "      <th>269</th>\n",
              "      <td>ATGTTATTAAACTTGCTGCAGTGTCGGCATTTTTGACGTTTGTGTA...</td>\n",
              "    </tr>\n",
              "    <tr>\n",
              "      <th>270</th>\n",
              "      <td>CAAGAGTCCGATAAGTGATTCTATAGCTGGCATAGATTCCAGTGAA...</td>\n",
              "    </tr>\n",
              "  </tbody>\n",
              "</table>\n",
              "<p>270 rows × 1 columns</p>\n",
              "</div>"
            ],
            "text/plain": [
              "                                             Sequences\n",
              "1    TAATTACGCACATTGATCAATCGCGATCGACTGGAATGGTGTAAAC...\n",
              "2    CACCCCTCCCTCACTCATCACCTATACCCTACCACCATGCTCCACC...\n",
              "3    CCAGGATTTAGCCAAACATGATGGCATATATAGGATACGTGTGCCT...\n",
              "4    GCGTACACAAGAAATCTAAGAAATCGTGTCACACCGAAATCACAGT...\n",
              "5    GCGTACACAAGAAATCTAAGAAATCGTGTCACACCGAAATCACAGT...\n",
              "..                                                 ...\n",
              "266  GCGATTGCAAATAACATCCGGGGCATTCTAGTTCAAGCTATTTTCA...\n",
              "267  GCGATTGCAAATAACATCCGGGGCATTCTAGTTCAAGCTATTTTCA...\n",
              "268  CTCACCTAATATCAATGTATTGCAAGTCCCAGGATTTTAAAGTGTA...\n",
              "269  ATGTTATTAAACTTGCTGCAGTGTCGGCATTTTTGACGTTTGTGTA...\n",
              "270  CAAGAGTCCGATAAGTGATTCTATAGCTGGCATAGATTCCAGTGAA...\n",
              "\n",
              "[270 rows x 1 columns]"
            ]
          },
          "metadata": {
            "tags": []
          },
          "execution_count": 1
        }
      ]
    },
    {
      "cell_type": "markdown",
      "metadata": {
        "id": "bzsbNHqWiFek",
        "colab_type": "text"
      },
      "source": [
        "The next  step is to organize the data into a format that can be passed into a deep learning algorithm. Most deep learning algorithms accept data in the form of vectors or matrices (or more generally, tensors). \n",
        "\n",
        "To get each DNA sequence in the form of a matrix, we use _one-hot encoding_, which encodes every base in a sequence in the form of a 4-dimensional vector, with a separate dimension for each base. We place a \"1\" in the dimension corresponding to the base found in the DNA sequence, and \"0\"s in all other slots. We then concatenate these 4-dimensional vectors together along the bases in the sequence to form a matrix. \n",
        "\n",
        "4 rows. N columns. There is a 1 in the row if there's the same nucleic acid there\n",
        "\n",
        "In the cell below, we one-hot encode the simulated DNA sequences, and show an example of what the one-hot encoded sequence looks like:"
      ]
    },
    {
      "cell_type": "code",
      "metadata": {
        "id": "IPJD6PuDnaS6",
        "colab_type": "code",
        "outputId": "fe055f48-058b-4347-efde-70a5e32437ae",
        "colab": {
          "base_uri": "https://localhost:8080/",
          "height": 170
        }
      },
      "source": [
        "from sklearn.preprocessing import LabelEncoder, OneHotEncoder\n",
        "\n",
        "# The LabelEncoder encodes a sequence of bases as a sequence of integers.\n",
        "integer_encoder = LabelEncoder()  \n",
        "# The OneHotEncoder converts an array of integers to a sparse matrix where \n",
        "# each row corresponds to one possible value of each feature.\n",
        "one_hot_encoder = OneHotEncoder(categories='auto')   \n",
        "input_features = []\n",
        "res = max(len(ele) for ele in sequences)\n",
        "for sequence in sequences:\n",
        "  integer_encoded = integer_encoder.fit_transform(list(sequence))\n",
        "  integer_encoded = np.array(integer_encoded).reshape(-1, 1)\n",
        "  one_hot_encoded = one_hot_encoder.fit_transform(integer_encoded)\n",
        "  size = res-len(one_hot_encoded.toarray())\n",
        "  input_features.append(np.concatenate((np.array(one_hot_encoded.toarray()), np.zeros((size, 4))), axis=0))\n",
        "\n",
        "np.set_printoptions(threshold=40)\n",
        "input_features = np.stack(input_features)\n",
        "\n",
        "print(\"Example sequence\\n-----------------------\")\n",
        "print('DNA Sequence #1:\\n',sequences[0][:10],'...',sequences[0][-10:])\n",
        "print('One hot encoding of Sequence #1:\\n',input_features[0].T)"
      ],
      "execution_count": 2,
      "outputs": [
        {
          "output_type": "stream",
          "text": [
            "Example sequence\n",
            "-----------------------\n",
            "DNA Sequence #1:\n",
            " TAATTACGCA ... TGCATCTTAG\n",
            "One hot encoding of Sequence #1:\n",
            " [[0. 1. 1. ... 0. 0. 0.]\n",
            " [0. 0. 0. ... 0. 0. 0.]\n",
            " [0. 0. 0. ... 0. 0. 0.]\n",
            " [1. 0. 0. ... 0. 0. 0.]]\n"
          ],
          "name": "stdout"
        }
      ]
    },
    {
      "cell_type": "markdown",
      "metadata": {
        "id": "AbBmrEVGrahN",
        "colab_type": "text"
      },
      "source": [
        "Similarly, we can go ahead and load the labels (_response variables_). In this case, the labels are structured as follows: a \"1\" indicates that a protein bound to the sequence, while a \"0\" indicates that the protein did not. While we could use the labels as a vector, it is often easier to similarly one-hot encode the labels, as we did the features. We carry out that here:"
      ]
    },
    {
      "cell_type": "code",
      "metadata": {
        "id": "IA9FJeQkr1Ze",
        "colab_type": "code",
        "outputId": "6ac82878-0adb-4695-98e1-957438be7b70",
        "colab": {
          "base_uri": "https://localhost:8080/",
          "height": 102
        }
      },
      "source": [
        "\n",
        "\n",
        "labels = [0]*118 + [1] * 152  # removes empty sequences\n",
        "\n",
        "one_hot_encoder = OneHotEncoder(categories='auto')\n",
        "labels = np.array(labels).reshape(-1, 1)\n",
        "input_labels = one_hot_encoder.fit_transform(labels).toarray()\n",
        "\n",
        "print('Labels:\\n',labels.T)\n",
        "print('One-hot encoded labels:\\n',input_labels.T)"
      ],
      "execution_count": 3,
      "outputs": [
        {
          "output_type": "stream",
          "text": [
            "Labels:\n",
            " [[0 0 0 ... 1 1 1]]\n",
            "One-hot encoded labels:\n",
            " [[1. 1. 1. ... 0. 0. 0.]\n",
            " [0. 0. 0. ... 1. 1. 1.]]\n"
          ],
          "name": "stdout"
        }
      ]
    },
    {
      "cell_type": "markdown",
      "metadata": {
        "id": "MTokFzDZvQR-",
        "colab_type": "text"
      },
      "source": [
        "We also go ahead and split the data into training and test sets. The purpose of the test set is to ensure that we can observe the performance of the model on new data, not seen previously during training. At a later step, we will further partition the training set into a training and validation set."
      ]
    },
    {
      "cell_type": "code",
      "metadata": {
        "id": "P_7LKgvc3Lnn",
        "colab_type": "code",
        "colab": {}
      },
      "source": [
        "from sklearn.model_selection import train_test_split\n",
        "\n",
        "train_features, test_features, train_labels, test_labels = train_test_split(\n",
        "    input_features, input_labels, test_size=0.25, random_state=42)"
      ],
      "execution_count": 0,
      "outputs": []
    },
    {
      "cell_type": "markdown",
      "metadata": {
        "id": "7LQp2ZFrg6dm",
        "colab_type": "text"
      },
      "source": [
        "## 2. Select the Architecture and Train"
      ]
    },
    {
      "cell_type": "markdown",
      "metadata": {
        "id": "xBT6Q3j-sjhh",
        "colab_type": "text"
      },
      "source": [
        "![alt text](https://github.com/abidlabs/deep-learning-genomics-primer/blob/master/Screenshot%20from%202018-08-01%2020-31-49.png?raw=true)"
      ]
    },
    {
      "cell_type": "markdown",
      "metadata": {
        "id": "krHJgtK_rzif",
        "colab_type": "text"
      },
      "source": [
        "Next, we choose a neural network architecture to train the model. In this tutorial, we choose a simple 1D convolutional neural network (CNN), which is commonly used in deep learning for functional genomics applications.\n",
        "\n",
        "A CNN learns to recognize patterns that are generally invariant across space, by trying to match the input sequence to a number of learnable \"filters\" of a fixed size. In our dataset, the filters will be motifs within the DNA sequences. The CNN may then learn to combine these filters to recognize a larger structure (e.g. the presence or absence of a transcription factor binding site). \n",
        "\n",
        "We will use the deep learning library `Keras`. As of 2017, `Keras` has been integrated into `TensorFlow`,  which makes it very easy to construct neural networks. We only need to specify the kinds of layers we would like to include in our network, and the dimensionality of each layer. The CNN we generate in this example consists of the following layers:\n",
        "\n",
        "- _Conv1D_: We define our convolutional layer to have 32 filters of size 12 bases.\n",
        "\n",
        "- _MaxPooling1D_: After the convolution, we use a pooling layer to down-sample the output of the each of the 32 convolutional filters. Though not always required, this is a typical form of non-linear down-sampling used in CNNs.\n",
        "\n",
        "- _Flatten_: This layer flattens the output of the max pooling layer, combining the results of the convolution and pooling layers across all 32 filters. \n",
        "\n",
        "- _Dense_: The first Dense tensor creates a layer (dense_1) that compresses the representation of the flattened layer, resulting in smaller layer with 16 tensors, and the second Dense function converges the tensors into the output layer (dense_2) that consists of the two possible response values (0 or 1).\n",
        "\n",
        "We can see the details of the architecture of the neural network we have created by running `model.summary()`, which prints the dimensionality and number of parameters for each layer in our network. "
      ]
    },
    {
      "cell_type": "code",
      "metadata": {
        "id": "dU3imaIns80_",
        "colab_type": "code",
        "outputId": "02558bae-e647-4e77-94d2-388269e57118",
        "colab": {
          "base_uri": "https://localhost:8080/",
          "height": 459
        }
      },
      "source": [
        "from tensorflow.keras.layers import Conv1D, Dense, MaxPooling1D, Flatten, Dropout\n",
        "from tensorflow.keras.models import Sequential\n",
        "\n",
        "model = Sequential()\n",
        "model.add(Conv1D(filters=32, kernel_size=12, \n",
        "                 input_shape=(train_features.shape[1], 4)))\n",
        "model.add(MaxPooling1D(pool_size=2))\n",
        "model.add(Dropout(.6))\n",
        "model.add(Conv1D(filters=32, kernel_size=12))\n",
        "model.add(MaxPooling1D(pool_size=2))\n",
        "model.add(Dropout(.6))\n",
        "model.add(Flatten())\n",
        "model.add(Dense(16, activation='relu'))\n",
        "model.add(Dense(2, activation='softmax'))\n",
        "\n",
        "model.compile(loss='binary_crossentropy', optimizer='adam', \n",
        "              metrics=['binary_accuracy'])\n",
        "model.summary()"
      ],
      "execution_count": 9,
      "outputs": [
        {
          "output_type": "stream",
          "text": [
            "Model: \"sequential_1\"\n",
            "_________________________________________________________________\n",
            "Layer (type)                 Output Shape              Param #   \n",
            "=================================================================\n",
            "conv1d_2 (Conv1D)            (None, 19980, 32)         1568      \n",
            "_________________________________________________________________\n",
            "max_pooling1d_2 (MaxPooling1 (None, 9990, 32)          0         \n",
            "_________________________________________________________________\n",
            "dropout_2 (Dropout)          (None, 9990, 32)          0         \n",
            "_________________________________________________________________\n",
            "conv1d_3 (Conv1D)            (None, 9979, 32)          12320     \n",
            "_________________________________________________________________\n",
            "max_pooling1d_3 (MaxPooling1 (None, 4989, 32)          0         \n",
            "_________________________________________________________________\n",
            "dropout_3 (Dropout)          (None, 4989, 32)          0         \n",
            "_________________________________________________________________\n",
            "flatten_1 (Flatten)          (None, 159648)            0         \n",
            "_________________________________________________________________\n",
            "dense_2 (Dense)              (None, 16)                2554384   \n",
            "_________________________________________________________________\n",
            "dense_3 (Dense)              (None, 2)                 34        \n",
            "=================================================================\n",
            "Total params: 2,568,306\n",
            "Trainable params: 2,568,306\n",
            "Non-trainable params: 0\n",
            "_________________________________________________________________\n"
          ],
          "name": "stdout"
        }
      ]
    },
    {
      "cell_type": "markdown",
      "metadata": {
        "id": "qSOUwoG_vHRA",
        "colab_type": "text"
      },
      "source": [
        "Now, we are ready to go ahead and train the neural network. We will further divide the training set into a training and validation set. We will train only on the reduced training set, but plot the loss curve on both the training and validation sets. Once the loss for the validation set stops improving or gets worse throughout the learning cycles, it is time to stop training because the model has already converged and may be just overfitting."
      ]
    },
    {
      "cell_type": "code",
      "metadata": {
        "id": "LSOmHIM83hXO",
        "colab_type": "code",
        "outputId": "fbeba988-3d38-4ed2-90dc-2131dbec3879",
        "colab": {
          "base_uri": "https://localhost:8080/",
          "height": 1000
        }
      },
      "source": [
        "history = model.fit(train_features, train_labels, \n",
        "                    epochs=50, verbose=1, validation_split=0.25)\n",
        "\n",
        "plt.figure()\n",
        "plt.plot(history.history['loss'])\n",
        "plt.plot(history.history['val_loss'])\n",
        "plt.title('model loss')\n",
        "plt.ylabel('loss')\n",
        "plt.xlabel('epoch')\n",
        "plt.legend(['train', 'validation'])\n",
        "plt.show()"
      ],
      "execution_count": 10,
      "outputs": [
        {
          "output_type": "stream",
          "text": [
            "Epoch 1/50\n",
            "5/5 [==============================] - 0s 65ms/step - loss: 0.8899 - binary_accuracy: 0.5695 - val_loss: 0.6747 - val_binary_accuracy: 0.6863\n",
            "Epoch 2/50\n",
            "5/5 [==============================] - 0s 30ms/step - loss: 0.6751 - binary_accuracy: 0.6026 - val_loss: 0.6203 - val_binary_accuracy: 0.6667\n",
            "Epoch 3/50\n",
            "5/5 [==============================] - 0s 27ms/step - loss: 0.6416 - binary_accuracy: 0.6490 - val_loss: 1.6307 - val_binary_accuracy: 0.4118\n",
            "Epoch 4/50\n",
            "5/5 [==============================] - 0s 30ms/step - loss: 0.6066 - binary_accuracy: 0.6556 - val_loss: 3.2103 - val_binary_accuracy: 0.4118\n",
            "Epoch 5/50\n",
            "5/5 [==============================] - 0s 29ms/step - loss: 0.5709 - binary_accuracy: 0.6821 - val_loss: 5.9220 - val_binary_accuracy: 0.4118\n",
            "Epoch 6/50\n",
            "5/5 [==============================] - 0s 29ms/step - loss: 0.5018 - binary_accuracy: 0.7947 - val_loss: 5.5943 - val_binary_accuracy: 0.4118\n",
            "Epoch 7/50\n",
            "5/5 [==============================] - 0s 30ms/step - loss: 0.4776 - binary_accuracy: 0.7285 - val_loss: 2.9518 - val_binary_accuracy: 0.4510\n",
            "Epoch 8/50\n",
            "5/5 [==============================] - 0s 29ms/step - loss: 0.4144 - binary_accuracy: 0.8477 - val_loss: 4.9660 - val_binary_accuracy: 0.4118\n",
            "Epoch 9/50\n",
            "5/5 [==============================] - 0s 28ms/step - loss: 0.3183 - binary_accuracy: 0.8543 - val_loss: 1.5039 - val_binary_accuracy: 0.4706\n",
            "Epoch 10/50\n",
            "5/5 [==============================] - 0s 29ms/step - loss: 0.2686 - binary_accuracy: 0.9338 - val_loss: 2.4356 - val_binary_accuracy: 0.4314\n",
            "Epoch 11/50\n",
            "5/5 [==============================] - 0s 30ms/step - loss: 0.1998 - binary_accuracy: 0.9338 - val_loss: 2.0272 - val_binary_accuracy: 0.5098\n",
            "Epoch 12/50\n",
            "5/5 [==============================] - 0s 28ms/step - loss: 0.1685 - binary_accuracy: 0.9934 - val_loss: 1.6292 - val_binary_accuracy: 0.3922\n",
            "Epoch 13/50\n",
            "5/5 [==============================] - 0s 30ms/step - loss: 0.1332 - binary_accuracy: 0.9934 - val_loss: 1.3481 - val_binary_accuracy: 0.6471\n",
            "Epoch 14/50\n",
            "5/5 [==============================] - 0s 29ms/step - loss: 0.1148 - binary_accuracy: 0.9801 - val_loss: 0.5241 - val_binary_accuracy: 0.7059\n",
            "Epoch 15/50\n",
            "5/5 [==============================] - 0s 29ms/step - loss: 0.0932 - binary_accuracy: 0.9868 - val_loss: 0.4930 - val_binary_accuracy: 0.7843\n",
            "Epoch 16/50\n",
            "5/5 [==============================] - 0s 29ms/step - loss: 0.0723 - binary_accuracy: 1.0000 - val_loss: 0.7018 - val_binary_accuracy: 0.7059\n",
            "Epoch 17/50\n",
            "5/5 [==============================] - 0s 29ms/step - loss: 0.0539 - binary_accuracy: 1.0000 - val_loss: 0.7257 - val_binary_accuracy: 0.6078\n",
            "Epoch 18/50\n",
            "5/5 [==============================] - 0s 29ms/step - loss: 0.0384 - binary_accuracy: 1.0000 - val_loss: 0.6897 - val_binary_accuracy: 0.6275\n",
            "Epoch 19/50\n",
            "5/5 [==============================] - 0s 29ms/step - loss: 0.0363 - binary_accuracy: 1.0000 - val_loss: 0.6791 - val_binary_accuracy: 0.6275\n",
            "Epoch 20/50\n",
            "5/5 [==============================] - 0s 28ms/step - loss: 0.0328 - binary_accuracy: 1.0000 - val_loss: 0.6496 - val_binary_accuracy: 0.7451\n",
            "Epoch 21/50\n",
            "5/5 [==============================] - 0s 29ms/step - loss: 0.0294 - binary_accuracy: 1.0000 - val_loss: 0.6005 - val_binary_accuracy: 0.7451\n",
            "Epoch 22/50\n",
            "5/5 [==============================] - 0s 28ms/step - loss: 0.0208 - binary_accuracy: 1.0000 - val_loss: 0.5921 - val_binary_accuracy: 0.6667\n",
            "Epoch 23/50\n",
            "5/5 [==============================] - 0s 29ms/step - loss: 0.0164 - binary_accuracy: 1.0000 - val_loss: 0.6192 - val_binary_accuracy: 0.6863\n",
            "Epoch 24/50\n",
            "5/5 [==============================] - 0s 29ms/step - loss: 0.0149 - binary_accuracy: 1.0000 - val_loss: 0.5301 - val_binary_accuracy: 0.7647\n",
            "Epoch 25/50\n",
            "5/5 [==============================] - 0s 30ms/step - loss: 0.0148 - binary_accuracy: 0.9934 - val_loss: 0.5891 - val_binary_accuracy: 0.7255\n",
            "Epoch 26/50\n",
            "5/5 [==============================] - 0s 27ms/step - loss: 0.0095 - binary_accuracy: 1.0000 - val_loss: 0.5754 - val_binary_accuracy: 0.7647\n",
            "Epoch 27/50\n",
            "5/5 [==============================] - 0s 31ms/step - loss: 0.0091 - binary_accuracy: 1.0000 - val_loss: 0.5110 - val_binary_accuracy: 0.8039\n",
            "Epoch 28/50\n",
            "5/5 [==============================] - 0s 28ms/step - loss: 0.0131 - binary_accuracy: 1.0000 - val_loss: 0.6363 - val_binary_accuracy: 0.7843\n",
            "Epoch 29/50\n",
            "5/5 [==============================] - 0s 32ms/step - loss: 0.0091 - binary_accuracy: 1.0000 - val_loss: 0.5780 - val_binary_accuracy: 0.8235\n",
            "Epoch 30/50\n",
            "5/5 [==============================] - 0s 28ms/step - loss: 0.0067 - binary_accuracy: 1.0000 - val_loss: 0.5245 - val_binary_accuracy: 0.8824\n",
            "Epoch 31/50\n",
            "5/5 [==============================] - 0s 29ms/step - loss: 0.0057 - binary_accuracy: 1.0000 - val_loss: 0.5641 - val_binary_accuracy: 0.8039\n",
            "Epoch 32/50\n",
            "5/5 [==============================] - 0s 30ms/step - loss: 0.0075 - binary_accuracy: 1.0000 - val_loss: 0.7338 - val_binary_accuracy: 0.7255\n",
            "Epoch 33/50\n",
            "5/5 [==============================] - 0s 31ms/step - loss: 0.0031 - binary_accuracy: 1.0000 - val_loss: 0.7633 - val_binary_accuracy: 0.6863\n",
            "Epoch 34/50\n",
            "5/5 [==============================] - 0s 30ms/step - loss: 0.0046 - binary_accuracy: 1.0000 - val_loss: 0.6293 - val_binary_accuracy: 0.8039\n",
            "Epoch 35/50\n",
            "5/5 [==============================] - 0s 30ms/step - loss: 0.0034 - binary_accuracy: 1.0000 - val_loss: 0.5167 - val_binary_accuracy: 0.8627\n",
            "Epoch 36/50\n",
            "5/5 [==============================] - 0s 30ms/step - loss: 0.0036 - binary_accuracy: 1.0000 - val_loss: 0.5150 - val_binary_accuracy: 0.8235\n",
            "Epoch 37/50\n",
            "5/5 [==============================] - 0s 29ms/step - loss: 0.0029 - binary_accuracy: 1.0000 - val_loss: 0.5201 - val_binary_accuracy: 0.8235\n",
            "Epoch 38/50\n",
            "5/5 [==============================] - 0s 29ms/step - loss: 0.0026 - binary_accuracy: 1.0000 - val_loss: 0.5313 - val_binary_accuracy: 0.8235\n",
            "Epoch 39/50\n",
            "5/5 [==============================] - 0s 28ms/step - loss: 0.0025 - binary_accuracy: 1.0000 - val_loss: 0.5489 - val_binary_accuracy: 0.8039\n",
            "Epoch 40/50\n",
            "5/5 [==============================] - 0s 28ms/step - loss: 0.0023 - binary_accuracy: 1.0000 - val_loss: 0.5408 - val_binary_accuracy: 0.8235\n",
            "Epoch 41/50\n",
            "5/5 [==============================] - 0s 30ms/step - loss: 0.0025 - binary_accuracy: 1.0000 - val_loss: 0.5418 - val_binary_accuracy: 0.8431\n",
            "Epoch 42/50\n",
            "5/5 [==============================] - 0s 30ms/step - loss: 0.0021 - binary_accuracy: 1.0000 - val_loss: 0.5500 - val_binary_accuracy: 0.8431\n",
            "Epoch 43/50\n",
            "5/5 [==============================] - 0s 31ms/step - loss: 0.0034 - binary_accuracy: 1.0000 - val_loss: 0.5937 - val_binary_accuracy: 0.7647\n",
            "Epoch 44/50\n",
            "5/5 [==============================] - 0s 29ms/step - loss: 0.0059 - binary_accuracy: 1.0000 - val_loss: 0.5541 - val_binary_accuracy: 0.8235\n",
            "Epoch 45/50\n",
            "5/5 [==============================] - 0s 28ms/step - loss: 0.0026 - binary_accuracy: 1.0000 - val_loss: 0.5567 - val_binary_accuracy: 0.8627\n",
            "Epoch 46/50\n",
            "5/5 [==============================] - 0s 29ms/step - loss: 0.0084 - binary_accuracy: 0.9934 - val_loss: 0.8437 - val_binary_accuracy: 0.6275\n",
            "Epoch 47/50\n",
            "5/5 [==============================] - 0s 29ms/step - loss: 0.0045 - binary_accuracy: 1.0000 - val_loss: 0.8427 - val_binary_accuracy: 0.6667\n",
            "Epoch 48/50\n",
            "5/5 [==============================] - 0s 29ms/step - loss: 0.0037 - binary_accuracy: 1.0000 - val_loss: 0.5334 - val_binary_accuracy: 0.8431\n",
            "Epoch 49/50\n",
            "5/5 [==============================] - 0s 29ms/step - loss: 0.0023 - binary_accuracy: 1.0000 - val_loss: 0.4659 - val_binary_accuracy: 0.8627\n",
            "Epoch 50/50\n",
            "5/5 [==============================] - 0s 28ms/step - loss: 0.0017 - binary_accuracy: 1.0000 - val_loss: 0.4707 - val_binary_accuracy: 0.8431\n"
          ],
          "name": "stdout"
        },
        {
          "output_type": "display_data",
          "data": {
            "image/png": "[encoded data removed]",
            "text/plain": [
              "<Figure size 432x288 with 1 Axes>"
            ]
          },
          "metadata": {
            "tags": [],
            "needs_background": "light"
          }
        }
      ]
    },
    {
      "cell_type": "markdown",
      "metadata": {
        "id": "P5eKDmX8ODBE",
        "colab_type": "text"
      },
      "source": [
        "Similarly, we can plot the accuracy of our neural network on the binary classification task. The metric used in this example is the _binary accuracy_, which calculates the proportion of predictions that match labels or response variables. Other metrics may be used in different tasks -- for example, the _mean squared error_ is typically used to measure the accuracy for continuous response variables (e.g. polygenic risk scores, total serum cholesterol level, height, weight and systolic blood pressure)."
      ]
    },
    {
      "cell_type": "code",
      "metadata": {
        "id": "J2Jdpa1i8zqM",
        "colab_type": "code",
        "outputId": "c5303254-9e6a-4b15-a68f-7489fd157f5e",
        "colab": {
          "base_uri": "https://localhost:8080/",
          "height": 295
        }
      },
      "source": [
        "plt.figure()\n",
        "plt.plot(history.history['binary_accuracy'])\n",
        "plt.plot(history.history['val_binary_accuracy'])\n",
        "plt.title('model accuracy')\n",
        "plt.ylabel('accuracy')\n",
        "plt.xlabel('epoch')\n",
        "plt.legend(['train', 'validation'])\n",
        "plt.show()"
      ],
      "execution_count": 11,
      "outputs": [
        {
          "output_type": "display_data",
          "data": {
            "image/png": "[encoded data removed]",
            "text/plain": [
              "<Figure size 432x288 with 1 Axes>"
            ]
          },
          "metadata": {
            "tags": [],
            "needs_background": "light"
          }
        }
      ]
    },
    {
      "cell_type": "markdown",
      "metadata": {
        "id": "6Xy7VhhZg-hN",
        "colab_type": "text"
      },
      "source": [
        "## 3. Evaluate"
      ]
    },
    {
      "cell_type": "markdown",
      "metadata": {
        "id": "btf7FyMVsnFA",
        "colab_type": "text"
      },
      "source": [
        "![alt text](https://github.com/abidlabs/deep-learning-genomics-primer/blob/master/Screenshot%20from%202018-08-01%2020-32-12.png?raw=true)"
      ]
    },
    {
      "cell_type": "markdown",
      "metadata": {
        "id": "eQ_xYCvfvFlE",
        "colab_type": "text"
      },
      "source": [
        "The best way to evaluate whether the network has learned to classify sequences is to evaluate its performance on a fresh test set consisting of data that it has not observed at all during training. Here, we evaluate the model on the test set and plot the results as a confusion matrix. Nearly every test sequence should be correctly classified."
      ]
    },
    {
      "cell_type": "code",
      "metadata": {
        "id": "J1bvxV9J-EMT",
        "colab_type": "code",
        "outputId": "325b9537-74f8-4470-b23a-b4a375b6e08c",
        "colab": {
          "base_uri": "https://localhost:8080/",
          "height": 346
        }
      },
      "source": [
        "from sklearn.metrics import confusion_matrix\n",
        "import itertools\n",
        "\n",
        "predicted_labels = model.predict(np.stack(test_features))\n",
        "cm = confusion_matrix(np.argmax(test_labels, axis=1), \n",
        "                      np.argmax(predicted_labels, axis=1))\n",
        "print('Confusion matrix:\\n',cm)\n",
        "\n",
        "cm = cm.astype('float') / cm.sum(axis = 1)[:, np.newaxis]\n",
        "\n",
        "plt.imshow(cm, cmap=plt.cm.Blues)\n",
        "plt.title('Normalized confusion matrix')\n",
        "plt.colorbar()\n",
        "plt.xlabel('True label')\n",
        "plt.ylabel('Predicted label')\n",
        "plt.xticks([0, 1]); plt.yticks([0, 1])\n",
        "plt.grid('off')\n",
        "for i, j in itertools.product(range(cm.shape[0]), range(cm.shape[1])):\n",
        "    plt.text(j, i, format(cm[i, j], '.2f'),\n",
        "             horizontalalignment='center',\n",
        "             color='white' if cm[i, j] > 0.5 else 'black')"
      ],
      "execution_count": 12,
      "outputs": [
        {
          "output_type": "stream",
          "text": [
            "Confusion matrix:\n",
            " [[24  6]\n",
            " [ 9 29]]\n"
          ],
          "name": "stdout"
        },
        {
          "output_type": "display_data",
          "data": {
            "image/png": "[encoded data removed]",
            "text/plain": [
              "<Figure size 432x288 with 2 Axes>"
            ]
          },
          "metadata": {
            "tags": [],
            "needs_background": "light"
          }
        }
      ]
    },
    {
      "cell_type": "markdown",
      "metadata": {
        "id": "UBdJQC1Ug__3",
        "colab_type": "text"
      },
      "source": [
        "## 4. Interpret"
      ]
    },
    {
      "cell_type": "markdown",
      "metadata": {
        "id": "6qmKi1ResqHo",
        "colab_type": "text"
      },
      "source": [
        "![alt text](https://github.com/abidlabs/deep-learning-genomics-primer/blob/master/Screenshot%20from%202018-08-01%2020-32-31.png?raw=true)"
      ]
    },
    {
      "cell_type": "markdown",
      "metadata": {
        "id": "UpAwoK9SwAbb",
        "colab_type": "text"
      },
      "source": [
        "Your results so far should allow you to conclude that the neural network is quite effective in learning to distinguish sequences that bind the protein from sequences that do not. But can we understand _why_ the neural network classifies a training point in the way that it does? To do so, we can compute a simple _saliency map_, which is the gradient of the model's prediction with respect to each individual nucleotide. \n",
        "\n",
        "In other words, the saliency maps shows how the output response value changes with respect to a small changes in input nucleotide sequence. All the positive values in the gradients tell us that a small change to that nucleotide will change the output value. Hence, visualizing these gradients for a given input sequence, should provide some clues about what nucleotides form the binding motive that we are trying to identify."
      ]
    },
    {
      "cell_type": "code",
      "metadata": {
        "id": "WNT_Au-dAP8a",
        "colab_type": "code",
        "colab": {}
      },
      "source": [
        "import tensorflow.keras.backend as K\n",
        "import operator\n",
        "\n",
        "def compute_salient_bases(model, x):\n",
        "  input_tensors = [model.input]\n",
        "  gradients = model.optimizer.get_gradients(model.output[0][1], model.input)\n",
        "  compute_gradients = K.function(inputs = input_tensors, outputs = gradients)\n",
        "  \n",
        "  x_value = np.expand_dims(x, axis=0)\n",
        "  gradients = compute_gradients([x_value])[0][0]\n",
        "  sal = np.clip(np.sum(np.multiply(gradients,x), axis=1),a_min=0, a_max=None)\n",
        "  return sal"
      ],
      "execution_count": 0,
      "outputs": []
    },
    {
      "cell_type": "code",
      "metadata": {
        "id": "uObq5iC4BG1g",
        "colab_type": "code",
        "outputId": "be7ea272-ff22-455b-be34-f54f02fd1722",
        "colab": {
          "base_uri": "https://localhost:8080/",
          "height": 367
        }
      },
      "source": [
        "sequence_index = 269  # You can change this to compute the gradient for a different example. But if so, change the coloring below as well.\n",
        "sal = compute_salient_bases(model, input_features[sequence_index])\n",
        "\n",
        "plt.figure(figsize=[16,5])\n",
        "barlist = plt.bar(np.arange(len(sal)), sal)\n",
        "index, value = max(enumerate(sal), key=operator.itemgetter(1))\n",
        "#[barlist[i].set_color('r') for i in range(5,17)]  # Change the coloring here if you change the sequence index.\n",
        "plt.xlabel('Bases')\n",
        "plt.ylabel('Magnitude of saliency values')\n",
        "plt.xticks(np.arange(len(sal)), list(sequences[sequence_index]));\n",
        "plt.title('Saliency map for bases in one of the positive sequences'\n",
        "          ' (green indicates the actual bases in motif)');\n",
        "plt.axis([index-40,index+40,0,.1])"
      ],
      "execution_count": 25,
      "outputs": [
        {
          "output_type": "execute_result",
          "data": {
            "text/plain": [
              "(491.0, 571.0, 0.0, 0.1)"
            ]
          },
          "metadata": {
            "tags": []
          },
          "execution_count": 25
        },
        {
          "output_type": "display_data",
          "data": {
            "image/png": "[encoded data removed]",
            "text/plain": [
              "<Figure size 1152x360 with 1 Axes>"
            ]
          },
          "metadata": {
            "tags": [],
            "needs_background": "light"
          }
        }
      ]
    },
    {
      "cell_type": "markdown",
      "metadata": {
        "id": "voPIrz9TPtIH",
        "colab_type": "text"
      },
      "source": [
        "The results above should show high saliency values for the bases _CGACCGAACTCC_ appearing in the DNA sequence. If you recall from the top of the document, this is exactly the motif that we embedded in the positive sequences! The raw saliency values may be non-zero for other bases as well -- the gradient-based saliency map method is not perfect, and there other more complex interpretation methods that are used in practice to obtain better results.  \n",
        "\n",
        "Furthermore, we may explore other architectures for our neural network to see if we can improve performance on the validation dataset. For example, we could choose different _hyper-parameters_, which are variables that define the network structure (e.g. the number of dense or convolutional layers, the dimensionality of each layer, etc.) and variables that determine how the network is trained (e.g. the number of epochs, the learning rate, etc.). Testing different hyper-parameter values or performing a hyper-parameter search grid are good practices that may help the deep learning procedure to obtain a clearer signal for classifying sequences and identifying the binding motif."
      ]
    },
    {
      "cell_type": "markdown",
      "metadata": {
        "id": "1lGpn-5IZ3VN",
        "colab_type": "text"
      },
      "source": [
        "## Acknowledgements "
      ]
    },
    {
      "cell_type": "markdown",
      "metadata": {
        "id": "BVFi5aDBZ7M8",
        "colab_type": "text"
      },
      "source": [
        "Thanks to Julia di lulio and Raquel Dias for helpful comments and suggestions in preparing this notebook."
      ]
    },
    {
      "cell_type": "markdown",
      "metadata": {
        "id": "vY3uDUtcLwXe",
        "colab_type": "text"
      },
      "source": [
        "# GitHub Repository"
      ]
    },
    {
      "cell_type": "markdown",
      "metadata": {
        "id": "U8soCi3qLzmc",
        "colab_type": "text"
      },
      "source": [
        "If you found this tutorial helpful, kindly star the [associated GitHub repo](https://github.com/abidlabs/deep-learning-genomics-primer/blob/master/A_Primer_on_Deep_Learning_in_Genomics_Public.ipynb) so that it is more visible to others as well!"
      ]
    }
  ]
}